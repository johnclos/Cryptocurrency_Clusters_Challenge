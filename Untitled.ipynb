{
 "cells": [
  {
   "cell_type": "code",
   "execution_count": null,
   "metadata": {},
   "outputs": [],
   "source": [
    "# Initial imports\n",
    "import pandas as pd\n",
    "from pathlib import Path\n",
    "from sklearn.preprocessing import StandardScaler\n",
    "from sklearn.decomposition import PCA\n",
    "from sklearn.cluster import KMeans"
   ]
  },
  {
   "cell_type": "code",
   "execution_count": null,
   "metadata": {},
   "outputs": [],
   "source": [
    "### Data Preparation\n",
    "# Read `crypto_data.csv` into Pandas.\n",
    "\n",
    "\n",
    "# Discard all cryptocurrencies that are not being traded. In other words, filter for currencies that are \n",
    "# currently being traded. Once you have done this, drop the `IsTrading` column from the dataframe.\n",
    "\n",
    "\n",
    "# Remove all rows that have at least one null value.\n",
    "\n",
    "\n",
    "# Filter for cryptocurrencies that have been mined. That is, the total coins mined should be greater than zero.\n",
    "\n",
    "\n",
    "# In order for your dataset to be comprehensible to a machine learning algorithm, its data should be numeric\n",
    "# Since the coin names do not contribute to the analysis of the data, delete the `CoinName` from the original dataframe.\n",
    "\n",
    "\n",
    "# Your next step in data preparation is to convert the remaining features with text values, `Algorithm` and\n",
    "# `ProofType`, into numerical data. To accomplish this task, use Pandas to create dummy variables. Examine the\n",
    "# number of rows and columns of your dataset now. How did they change?\n",
    "\n",
    "\n",
    "# Standardize your dataset so that columns that contain larger values do not unduly influence the outcome.\n",
    "\n"
   ]
  },
  {
   "cell_type": "code",
   "execution_count": null,
   "metadata": {},
   "outputs": [],
   "source": [
    "### Dimensionality Reduction\n",
    "# Creating dummy variables above dramatically increased the number of features in your dataset. Perform dimensionality\n",
    "# reduction with PCA. Rather than specify the number of principal components when you instantiate the PCA model,\n",
    "# it is possible to state the desired **explained variance**. For example, say that a dataset has 100 features.\n",
    "# Using `PCA(n_components=0.99)` creates a model that will preserve approximately 99% of the explained variance,\n",
    "# whether that means reducing the dataset to 80 principal components or 3. For this project, preserve 90% of the\n",
    "# explained variance in dimensionality reduction. How did the number of the features change?\n",
    "\n",
    "\n",
    "# Next, further reduce the dataset dimensions with t-SNE and visually inspect the results. In order to accomplish\n",
    "# this task, run t-SNE on the principal components: the output of the PCA transformation. Then create a scatter\n",
    "# plot of the t-SNE output. Observe whether there are distinct clusters or not.\n",
    "\n"
   ]
  },
  {
   "cell_type": "code",
   "execution_count": null,
   "metadata": {},
   "outputs": [],
   "source": [
    "### Cluster Analysis with k-Means\n",
    "# Create an elbow plot to identify the best number of clusters. Use a for-loop to determine the inertia for each\n",
    "# `k` between 1 through 10. Determine, if possible, where the elbow of the plot is, and at which value of `k` it\n",
    "# appears.\n"
   ]
  },
  {
   "cell_type": "code",
   "execution_count": null,
   "metadata": {},
   "outputs": [],
   "source": [
    "### Recommendation\n",
    "# Based on your findings, make a brief (1-2 sentences) recommendation to your clients. Can the cryptocurrencies be\n",
    "# clustered together? If so, into how many clusters? \n"
   ]
  }
 ],
 "metadata": {
  "kernelspec": {
   "display_name": "Python 3",
   "language": "python",
   "name": "python3"
  },
  "language_info": {
   "codemirror_mode": {
    "name": "ipython",
    "version": 3
   },
   "file_extension": ".py",
   "mimetype": "text/x-python",
   "name": "python",
   "nbconvert_exporter": "python",
   "pygments_lexer": "ipython3",
   "version": "3.8.5"
  }
 },
 "nbformat": 4,
 "nbformat_minor": 4
}
